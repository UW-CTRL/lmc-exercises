{
  "cells": [
    {
      "cell_type": "markdown",
      "metadata": {
        "id": "view-in-github",
        "colab_type": "text"
      },
      "source": [
        "<a href=\"https://colab.research.google.com/github/UW-CTRL/lmc-exercises/blob/main/01_dynamics%2BJAX.ipynb\" target=\"_parent\"><img src=\"https://colab.research.google.com/assets/colab-badge.svg\" alt=\"Open In Colab\"/></a>"
      ]
    },
    {
      "cell_type": "markdown",
      "metadata": {
        "id": "T80qjn3bMyFb"
      },
      "source": [
        "# Dynamics, trajectories, and JAX\n",
        "In this problem, you will familiarize yourself with setting up a dynamical system, generating trajectories, and learning about JAX.\n",
        "\n"
      ]
    },
    {
      "cell_type": "markdown",
      "metadata": {
        "id": "YO8n6mO0ZHGf"
      },
      "source": [
        "## 1. Dynamics and trajectories"
      ]
    },
    {
      "cell_type": "markdown",
      "metadata": {
        "id": "PuMxVPGGNJts"
      },
      "source": [
        "First, let's import the relevant packages"
      ]
    },
    {
      "cell_type": "code",
      "execution_count": null,
      "metadata": {
        "id": "ZTM230b3fBFE"
      },
      "outputs": [],
      "source": [
        "import abc\n",
        "from typing import Callable\n",
        "import jax.numpy as jnp\n",
        "import matplotlib.pyplot as plt\n",
        "import functools\n",
        "import jax\n",
        "import numpy as np"
      ]
    },
    {
      "cell_type": "markdown",
      "metadata": {
        "id": "pFeoYXO9ZmfL"
      },
      "source": [
        "*NOTE:* We are using `jax.numpy` and the next section of this exercise will go more into JAX. In the meantime, just use `jax.numpy` (`jnp`) as if it was just the regular `numpy` (`np`)."
      ]
    },
    {
      "cell_type": "markdown",
      "metadata": {
        "id": "ciYK5jBsNjBt"
      },
      "source": [
        "Now, let's construct a base class to define dynamics of a system."
      ]
    },
    {
      "cell_type": "code",
      "execution_count": null,
      "metadata": {
        "id": "JppyJdb5MfsP"
      },
      "outputs": [],
      "source": [
        "class Dynamics(metaclass=abc.ABCMeta):\n",
        "    \"\"\"Abstract base class for dynamical systems.\"\"\"\n",
        "\n",
        "    dynamics_func: Callable[[jnp.ndarray, jnp.ndarray, float], jnp.ndarray]\n",
        "    state_dim: int\n",
        "    control_dim: int\n",
        "\n",
        "    def __init__(\n",
        "        self,\n",
        "        dynamics_func: Callable[[jnp.ndarray, jnp.ndarray, float], jnp.ndarray],\n",
        "        state_dim: int,\n",
        "        control_dim: int,\n",
        "    ):\n",
        "        \"\"\"Initializes the Dynamics object.\n",
        "\n",
        "        Args:\n",
        "            dynamics_func: A callable representing the dynamics function.\n",
        "            state_dim: The dimension of the state space.\n",
        "            control_dim: The dimension of the control space.\n",
        "        \"\"\"\n",
        "        self.dynamics_func = dynamics_func\n",
        "        self.state_dim = state_dim\n",
        "        self.control_dim = control_dim\n",
        "\n",
        "    def __call__(\n",
        "        self, state: jnp.ndarray, control: jnp.ndarray, time: float = 0.0\n",
        "    ) -> jnp.ndarray:\n",
        "        \"\"\"Evaluates the dynamics function at a given state, control, and time.\n",
        "\n",
        "        Args:\n",
        "            state: The current state.\n",
        "            control: The current control input.\n",
        "            time: The current time (optional, defaults to 0).\n",
        "\n",
        "        Returns:\n",
        "            The next state.\n",
        "        \"\"\"\n",
        "        return self.dynamics_func(state, control, time)"
      ]
    },
    {
      "cell_type": "markdown",
      "metadata": {
        "id": "tPXjWz-ST5IL"
      },
      "source": [
        "### (a) Obtaining discrete-time dynamics\n",
        "\n",
        "With the continuous time dynamics, we can obtain the discrete time dynamics by integrating over a time step $\\Delta t$.\n",
        "\n"
      ]
    },
    {
      "cell_type": "markdown",
      "metadata": {
        "id": "ISfO5PcsYVvz"
      },
      "source": [
        "#### (i) Implement both Euler integation  to obtain the discrete-time dynamics."
      ]
    },
    {
      "cell_type": "code",
      "execution_count": null,
      "metadata": {
        "id": "t9emMU58OfcJ"
      },
      "outputs": [],
      "source": [
        "# TODO in class\n",
        "def euler_integrate(\n",
        "    dynamics: Callable[[jnp.ndarray, jnp.ndarray, float], jnp.ndarray], dt: float\n",
        ") -> Callable[[jnp.ndarray, jnp.ndarray, float], jnp.ndarray]:\n",
        "    \"\"\"\n",
        "    Implement Euler integration for discrete-time dynamics.\n",
        "\n",
        "    Args:\n",
        "        dynamics: A callable representing the continuous-time dynamics function.\n",
        "        dt: The time step for integration.\n",
        "\n",
        "    Returns:\n",
        "        A callable representing the discrete-time dynamics using Euler integration.\n",
        "    \"\"\"\n",
        "\n",
        "    # zero-order hold\n",
        "    def integrator(x: jnp.ndarray, u: jnp.ndarray, t: float) -> jnp.ndarray:\n",
        "        # TODO: Implement Euler integration here\n",
        "        raise NotImplementedError # remove this\n",
        "    return integrator"
      ]
    },
    {
      "cell_type": "markdown",
      "metadata": {
        "id": "skhm6_4tUArR"
      },
      "source": [
        "#### (ii) Implement runge-Kutta integration to obtain the discrete-time dynamics."
      ]
    },
    {
      "cell_type": "code",
      "execution_count": null,
      "metadata": {
        "id": "GlYKjfs5Ueic"
      },
      "outputs": [],
      "source": [
        "# TODO in class\n",
        "def runge_kutta_integrate(\n",
        "    dynamics: Callable[[jnp.ndarray, jnp.ndarray, float], jnp.ndarray], dt: float\n",
        ") -> Callable[[jnp.ndarray, jnp.ndarray, float], jnp.ndarray]:\n",
        "    \"\"\"\n",
        "    Implement Runge-Kutta integration for discrete-time dynamics.\n",
        "\n",
        "    Args:\n",
        "        dynamics: A callable representing the continuous-time dynamics function.\n",
        "        dt: The time step for integration.\n",
        "\n",
        "    Returns:\n",
        "        A callable representing the discrete-time dynamics using Runge-Kutta integration.\n",
        "    \"\"\"\n",
        "\n",
        "    # zero-order hold\n",
        "    def integrator(x: jnp.ndarray, u: jnp.ndarray, t: float) -> jnp.ndarray:\n",
        "        # TODO: Implement Runge-Kutta integration here\n",
        "        raise NotImplementedError # remove this\n",
        "    return integrator"
      ]
    },
    {
      "cell_type": "markdown",
      "metadata": {
        "id": "WtLLPgD8NyZF"
      },
      "source": [
        "### (b) Setting up unicycle dynamics\n",
        "Using the `Dynamics` class, construct the continuous time dynamics for the dynamically extended unicycle model.\n",
        "\n",
        "$$\n",
        "    \\dot{\\mathbf{x}} = \\begin{bmatrix}\n",
        "        \\dot{x} \\\\ \\dot{y} \\\\ \\dot{\\theta} \\\\ \\dot{v}\n",
        "    \\end{bmatrix} = \\begin{bmatrix}\n",
        "        v\\cos\\theta \\\\ v\\sin\\theta \\\\ \\omega \\\\ a\n",
        "    \\end{bmatrix}, \\qquad u=(\\omega, a)\n",
        "$$"
      ]
    },
    {
      "cell_type": "code",
      "execution_count": null,
      "metadata": {
        "id": "b_MUgUBqNGZ-"
      },
      "outputs": [],
      "source": [
        "# TODO with peers\n",
        "\n",
        "\n",
        "def unicycle_dynamics_func(state, control, time=0):\n",
        "    \"\"\"\n",
        "    Define the unicycle dynamics equations here.\n",
        "\n",
        "    Args:\n",
        "      state: The current state of the unicycle (x, y, theta, v).\n",
        "      control: The control input (omega, a).\n",
        "      time: The current time (optional).\n",
        "\n",
        "    Returns:\n",
        "      The time derivative of the state (dot_x, dot_y, dot_theta, dot_v).\n",
        "    \"\"\"\n",
        "    # TODO: Implement the unicycle dynamics\n",
        "    pass"
      ]
    },
    {
      "cell_type": "markdown",
      "metadata": {
        "id": "0DFbpI2eUoDB"
      },
      "source": [
        "### (c) Simulate discrete-time dynamics\n",
        "\n",
        "Now, we can construct *discrete time* dynamics using the different intergation schemes, and simulate it over some horizon"
      ]
    },
    {
      "cell_type": "code",
      "execution_count": null,
      "metadata": {
        "id": "8pvecQkEU5j8"
      },
      "outputs": [],
      "source": [
        "dt = 0.1\n",
        "\n",
        "state_dim = 4\n",
        "control_dim = 2\n",
        "continuous_dynamics = Dynamics(unicycle_dynamics_func, state_dim, control_dim)\n",
        "\n",
        "discrete_dynamics_euler = Dynamics(\n",
        "    euler_integrate(continuous_dynamics, dt), state_dim, control_dim\n",
        ")\n",
        "discrete_dynamics_rk = Dynamics(\n",
        "    runge_kutta_integrate(continuous_dynamics, dt), state_dim, control_dim\n",
        ")"
      ]
    },
    {
      "cell_type": "code",
      "execution_count": null,
      "metadata": {
        "id": "jcFlC6wBV-jj"
      },
      "outputs": [],
      "source": [
        "# TODO in class\n",
        "\n",
        "def simulate_dynamics(\n",
        "    dynamics: Callable[[jnp.ndarray, jnp.ndarray, float], jnp.ndarray],\n",
        "    initial_state: jnp.ndarray,\n",
        "    control_sequence: jnp.ndarray,\n",
        "    time_horizon: float,\n",
        "    dt: float,\n",
        ") -> jnp.ndarray:\n",
        "    \"\"\"\n",
        "    Simulate the discrete-time dynamics over a given time horizon.\n",
        "\n",
        "    Args:\n",
        "        dynamics: A callable representing the discrete-time dynamics function.\n",
        "        initial_state: The initial state of the system.\n",
        "        control_sequence: A sequence of control inputs for each time step.\n",
        "        time_horizon: The total time duration for the simulation.\n",
        "        dt: The time step size.\n",
        "\n",
        "    Returns:\n",
        "        An array containing the state trajectory over the time horizon.\n",
        "    \"\"\"\n",
        "    # TODO: Implement dynamics simulation here\n",
        "    raise NotImplementedError # remove this\n"
      ]
    },
    {
      "cell_type": "markdown",
      "metadata": {
        "id": "BeV-f16aYoHh"
      },
      "source": [
        "### (d) Compare integration schemes\n"
      ]
    },
    {
      "cell_type": "markdown",
      "metadata": {
        "id": "Vc66h-LuWiwh"
      },
      "source": [
        "#### (i) Simulate trajectories\n",
        "\n",
        "Simulate your dynamics over 5 seconds for different values of $\\Delta t$ and compare the trajectories.\n",
        "\n",
        "Show on the same plot, the simulated trajectories for the following cases:\n",
        "- Discrete-time dynamics with Euler integration, $\\Delta t = 0.01$\n",
        "- Discrete-time dynamics with Euler integration, $\\Delta t = 0.5$\n",
        "- Discrete-time dynamics with RK integration, $\\Delta t = 0.01$\n",
        "- Discrete-time dynamics with RK integration, $\\Delta t = 0.5$\n",
        "\n"
      ]
    },
    {
      "cell_type": "code",
      "execution_count": null,
      "metadata": {
        "id": "WXSKWBRzWutH"
      },
      "outputs": [],
      "source": [
        "# TODO with peers\n",
        "\n"
      ]
    },
    {
      "cell_type": "markdown",
      "metadata": {
        "id": "_EBCdvSJWvXu"
      },
      "source": [
        "#### (ii) Discuss choice of integration schemes\n",
        "How does the choice of integration scheme and time step size influence the resulting trajectories?"
      ]
    },
    {
      "cell_type": "code",
      "execution_count": null,
      "metadata": {
        "id": "M8T-4fZlW3EZ"
      },
      "outputs": [],
      "source": [
        "# DISCUSS with peers"
      ]
    },
    {
      "cell_type": "markdown",
      "metadata": {
        "id": "cLv1o7w3YvFJ"
      },
      "source": []
    },
    {
      "cell_type": "markdown",
      "metadata": {
        "id": "yWHHeQVcY9PF"
      },
      "source": [
        "## JAX"
      ]
    },
    {
      "cell_type": "markdown",
      "metadata": {
        "id": "IcLe1FjhZZ7P"
      },
      "source": [
        "So far, we have just written code that we could have done with regular numpy. So why use JAX?\n",
        "\n",
        "JAX is particularly powerful for control applications due to its ability to perform **automatic differentiation** (autograd), its **just-in-time (JIT) compilation** capabilities, and its support for **automatic vectorization** (`vmap`). Autograd is essential for optimizing control policies and estimating system parameters, while JIT compilation and `vmap` significantly speed up numerical computations, which are prevalent in simulations and model predictive control. This combination allows for efficient development and deployment of complex control algorithms.\n",
        "\n"
      ]
    },
    {
      "cell_type": "markdown",
      "metadata": {
        "id": "VmorDmQZaISu"
      },
      "source": [
        "### (a) `jax.vmap`\n",
        "\n",
        "Suppose now that you want to simulate *many* trajectories. Rather than wrapping the `simulate` function in a for loop for multiple initial states and control sequences, we can use `jax.vmap` which is a *vectorize map* function, allowing us to apply a function, in this case `simulate` over *batched* inputs.\n",
        "\n",
        "An example usage of how to use the `jax.vmap` is shown below. Notice that we can specify which argument should be vectorized and along which dimension."
      ]
    },
    {
      "cell_type": "code",
      "execution_count": null,
      "metadata": {
        "id": "aWIAujKtZZL1"
      },
      "outputs": [],
      "source": [
        "# TODO in class\n",
        "def foo(x, y, z):\n",
        "    return x + y + z\n",
        "\n",
        "\n",
        "N = 1000\n",
        "x = jnp.array(np.random.randn(N))\n",
        "y = jnp.array(np.random.randn(N))\n",
        "z = jnp.array(np.random.randn(N))\n",
        "\n",
        "xs = jnp.array(np.random.randn(N, N))\n",
        "ys = jnp.array(np.random.randn(N, N))\n",
        "zs = jnp.array(np.random.randn(N, N))\n",
        "\n",
        "foo(x, y, z)  # non-vectorized version\n",
        "# vectorized version for all inputs, 0 is the batch dimension for all inputs\n",
        "jax.vmap(foo, in_axes=[0, 0, 0])(xs, ys, zs)\n",
        "\n",
        "# x not batched, but ys and zs are with 0 as the batch dimension\n",
        "jax.vmap(foo, in_axes=[None, 0, 0])(x, ys, zs)\n",
        "\n",
        "# y not batched, but xs and zs are with 0 as the batch dimension\n",
        "jax.vmap(foo, in_axes=[0, None, 0])(xs, y, zs)\n",
        "\n",
        "# z not batched, but xs and ys are with 0 as the batch dimension\n",
        "jax.vmap(foo, in_axes=[0, 0, None])(xs, ys, z)\n",
        "\n",
        "# x and y not batched, but zs is with 0 as the batch dimension\n",
        "jax.vmap(foo, in_axes=[None, None, 0])(x, y, zs)\n",
        "\n",
        "# vectorized version for all inputs, batch dimension for xs is 1,\n",
        "# while 0 is the batch dimension for yx and zs\n",
        "jax.vmap(foo, in_axes=[1, 0, 0])(xs, ys, zs)\n"
      ]
    },
    {
      "cell_type": "markdown",
      "metadata": {
        "id": "ZiiO0RhAbl1F"
      },
      "source": [
        "Apply `jax.vmap` for the simulate function for the following batch of initial states and control inputs.\n",
        "\n",
        "Use the following values and simulate multiple trajectories using the `jax.vmap` function."
      ]
    },
    {
      "cell_type": "code",
      "execution_count": null,
      "metadata": {
        "id": "WTzOdldqa_in"
      },
      "outputs": [],
      "source": [
        "bs = 1024\n",
        "time_horizon = 2  # seconds\n",
        "dt = 0.1\n",
        "n_steps = int(time_horizon / dt)\n",
        "\n",
        "initial_states = jnp.array(np.random.rand(bs, state_dim))\n",
        "control_sequences = jnp.array(np.random.rand(bs, n_steps, control_dim))\n",
        "dynamics = Dynamics(\n",
        "    runge_kutta_integrate(continuous_dynamics, dt), state_dim, control_dim\n",
        ")\n"
      ]
    },
    {
      "cell_type": "code",
      "execution_count": null,
      "metadata": {
        "id": "gG-Gk81WcqR8"
      },
      "outputs": [],
      "source": [
        "# TODO with peers\n",
        "# use `jax.vmap` to simulate all trajectories and plot\n"
      ]
    },
    {
      "cell_type": "markdown",
      "metadata": {
        "id": "j0o2uhsmm9DL"
      },
      "source": [
        "### (b) `jax.jit`\n",
        "\n",
        "Bleh! You notice that it takes some time to run it. And if you increased the duration or number of trajectories to simulate, the computation would increase.\n",
        "If only we could compile the code to help reduce computation time. With JAX, you can! We can use the `jax.jit` function that performs just-in-time compilation. JAX will figure out the expected sizes of the input arrays and allocate memory based on that.\n",
        "\n",
        "There are number of ways to just `jax.jit`, and it can get a bit tricky as your code becomes more complex. Best to read up the JAX documentation for more information.\n",
        "But for relatively simple functions, you can usually just apply `jax.jit` without any fuss, and get significant speedup in your code."
      ]
    },
    {
      "cell_type": "code",
      "execution_count": null,
      "metadata": {
        "id": "IY5x9G6mmVjm"
      },
      "outputs": [],
      "source": [
        "%timeit  jax.vmap(simulate_dynamics, in_axes=(None, 0, 0, None, None))(discrete_dynamics_rk, initial_states, control_sequences, time_horizon, dt)\n"
      ]
    },
    {
      "cell_type": "code",
      "execution_count": null,
      "metadata": {
        "id": "UR30w0l_nRSN"
      },
      "outputs": [],
      "source": [
        "# method 1: directly apply jax.jit over the jax.vmap function\n",
        "# need to provide the static_argnums argument to the first argument since that is a function input and not an array input\n",
        "sim_jit = jax.jit(\n",
        "    jax.vmap(simulate_dynamics, in_axes=[None, 0, 0, None, None]), static_argnums=0\n",
        ")\n"
      ]
    },
    {
      "cell_type": "code",
      "execution_count": null,
      "metadata": {
        "id": "X5A7qyjfnfOz"
      },
      "outputs": [],
      "source": [
        "# time the run\n",
        "%timeit sim_jit(discrete_dynamics_rk, initial_states, control_sequences, time_horizon, dt).block_until_ready()"
      ]
    },
    {
      "cell_type": "code",
      "execution_count": null,
      "metadata": {
        "id": "gdNb5zZonk0x"
      },
      "outputs": [],
      "source": [
        "# method 2: apply jax.jit over the simulate function and then apply jax.vmap\n",
        "sim_jit = jax.jit(simulate_dynamics, static_argnums=0)\n",
        "sim_jit_vmap = jax.vmap(sim_jit, in_axes=[None, 0, 0, None, None])\n"
      ]
    },
    {
      "cell_type": "code",
      "execution_count": null,
      "metadata": {
        "id": "B7j6bQgfnwop"
      },
      "outputs": [],
      "source": [
        "%timeit sim_jit_vmap(discrete_dynamics_rk, initial_states, control_sequences, time_horizon, dt).block_until_ready()"
      ]
    },
    {
      "cell_type": "code",
      "execution_count": null,
      "metadata": {
        "id": "61KXMJ4cnz2X"
      },
      "outputs": [],
      "source": [
        "# method 3: apply jax.jit over the simulate function during function construction and then apply jax.vmap\n",
        "@functools.partial(jax.jit, static_argnames=(\"dynamics\"))\n",
        "def simulate_dynamics(\n",
        "    dynamics: Callable[[jnp.ndarray, jnp.ndarray, float], jnp.ndarray],\n",
        "    initial_state: jnp.ndarray,\n",
        "    control_sequence: jnp.ndarray,\n",
        "    time_horizon: float,\n",
        "    dt: float,\n",
        ") -> jnp.ndarray:\n",
        "    \"\"\"\n",
        "    Simulate the discrete-time dynamics over a given time horizon.\n",
        "\n",
        "    Args:\n",
        "        dynamics: A callable representing the discrete-time dynamics function.\n",
        "        initial_state: The initial state of the system.\n",
        "        control_sequence: A sequence of control inputs for each time step.\n",
        "        time_horizon: The total time duration for the simulation.\n",
        "        dt: The time step size.\n",
        "\n",
        "    Returns:\n",
        "        An array containing the state trajectory over the time horizon.\n",
        "    \"\"\"\n",
        "    # TODO: Implement dynamics simulation here\n",
        "    # raise NotImplementedError # remove this\n",
        "    xs = [initial_state]\n",
        "    time = 0\n",
        "    for u in control_sequence:\n",
        "        xs.append(dynamics(xs[-1], u, time))\n",
        "        time += dt\n",
        "    return jnp.stack(xs)\n"
      ]
    },
    {
      "cell_type": "code",
      "execution_count": null,
      "metadata": {
        "id": "llJpP534oGOo"
      },
      "outputs": [],
      "source": [
        "sim_jit_vmap = jax.vmap(simulate_dynamics, in_axes=[None, 0, 0, None, None])\n"
      ]
    },
    {
      "cell_type": "code",
      "execution_count": null,
      "metadata": {
        "id": "nCHJlBQPoS4t"
      },
      "outputs": [],
      "source": [
        "%timeit sim_jit_vmap(discrete_dynamics_rk, initial_states, control_sequences, time_horizon, dt).block_until_ready()"
      ]
    },
    {
      "cell_type": "markdown",
      "metadata": {
        "id": "naPfy5zyo47J"
      },
      "source": [
        "### (c) jax.grad\n",
        "\n",
        "JAX's `jax.grad` function provides automatic differentiation, allowing you to easily compute gradients of your functions, up to computer precision."
      ]
    },
    {
      "cell_type": "code",
      "execution_count": null,
      "metadata": {
        "id": "suOvLSUhpGz7"
      },
      "outputs": [],
      "source": [
        "# TODO in class\n",
        "def test_function_scalar(x, y):\n",
        "    return y * x[0] ** 2 + jnp.sin(x[1])\n",
        "\n",
        "\n",
        "# df/dx = 2x\n",
        "# df/dy = cos(y)\n",
        "\n",
        "x_input = jnp.array([2.0, 1.0])\n",
        "y_input = 1.0\n",
        "\n",
        "# compute gradient\n",
        "jax.grad(test_function_scalar, argnums=[0, 1])(x_input, y_input)\n",
        "\n",
        "# compute jacobian\n",
        "jax.jacobian(test_function_scalar, argnums=[0, 1])(x_input, y_input)\n",
        "\n",
        "# # compute hessian\n",
        "jax.hessian(test_function_scalar, argnums=[0, 1])(x_input, y_input)\n"
      ]
    },
    {
      "cell_type": "code",
      "execution_count": null,
      "metadata": {
        "id": "vxfoyE3Sp5Tl"
      },
      "outputs": [],
      "source": [
        "# TODO in class\n",
        "def test_function_scalar(x, y):\n",
        "    return jnp.array([y * x[0] ** 2, jnp.sin(x[1])])\n",
        "\n",
        "\n",
        "x_input = jnp.array([2.0, 1.0])\n",
        "y_input = 1.0\n",
        "\n",
        "# compute jacobian\n",
        "jax.jacobian(test_function_scalar, argnums=[0, 1])(x_input, y_input)\n"
      ]
    },
    {
      "cell_type": "markdown",
      "metadata": {
        "id": "1o_2tzrOzRxz"
      },
      "source": [
        "#### (i) Linearize dynamics analytically\n",
        "\n",
        "With the unicycle dynamics, linearize the dynamics about a point $(\\mathbf{x}_0, \\mathbf{u}_0)$. That is, for linearized dynamics of the form $\\dot{\\mathbf{x}} \\approx A\\mathbf{x}+ B\\mathbf{u} + C$, give expressions for $A$, $B$, and $C$."
      ]
    },
    {
      "cell_type": "code",
      "execution_count": null,
      "metadata": {
        "id": "iR8mChQ30Sub"
      },
      "outputs": [],
      "source": [
        "# TODO with peers\n",
        "def linearized_unicycle_dynamics_analytic(\n",
        "    state: jnp.ndarray, control: jnp.ndarray, time: float\n",
        "):\n",
        "    \"\"\"\n",
        "    Compute the linearized dynamics matrices A, B, and offset vector C\n",
        "    for the unicycle model analytically around a given state and control point.\n",
        "\n",
        "    Args:\n",
        "      state: The state point (x, y, theta, v) around which to linearize.\n",
        "      control: The control point (omega, a) around which to linearize.\n",
        "      time: The time at which to evaluate the linearized dynamics.\n",
        "\n",
        "    Returns:\n",
        "      A tuple containing:\n",
        "        A: The state matrix (∂f/∂x evaluated at the point).\n",
        "        B: The control matrix (∂f/∂u evaluated at the point).\n",
        "        C: The offset vector (f(x0, u0) - A*x0 - B*u0).\n",
        "    \"\"\"\n",
        "    # TODO: Implement the analytical linearization here\n",
        "    # Calculate A, B, and C based on the unicycle dynamics\n",
        "    # A = ...\n",
        "    # B = ...\n",
        "    # C = ...\n",
        "\n",
        "    raise NotImplementedError # remove this\n"
      ]
    },
    {
      "cell_type": "markdown",
      "metadata": {
        "id": "PkWiVEFTze0Z"
      },
      "source": [
        "#### (ii) Linearize dynamics using JAX\n",
        "\n",
        "Using the autodiff capabilities of JAX, we can linearize the dynamics."
      ]
    },
    {
      "cell_type": "code",
      "execution_count": null,
      "metadata": {
        "id": "VSw61Co-p6wa"
      },
      "outputs": [],
      "source": [
        "# TODO with peers\n",
        "\n",
        "@functools.partial(jax.jit, static_argnames=(\"dynamics\"))\n",
        "def linearized_dynamics_jax(\n",
        "    dynamics: Dynamics, state: jnp.ndarray, control: jnp.ndarray, time: float\n",
        "):\n",
        "    \"\"\"\n",
        "    Compute the linearized dynamics matrices A, B, and offset vector C\n",
        "    for the unicycle model using jax.jacobian around a given state and control point.\n",
        "\n",
        "    Args:\n",
        "      dynamics: A Dynamics object representing the unicycle dynamics.\n",
        "      state: The state point (x, y, theta, v) around which to linearize.\n",
        "      control: The control point (omega, a) around which to linearize.\n",
        "      time: The time at which to evaluate the linearized dynamics.\n",
        "\n",
        "    Returns:\n",
        "      A tuple containing:\n",
        "        A: The state matrix (∂f/∂x evaluated at the point).\n",
        "        B: The control matrix (∂f/∂u evaluated at the point).\n",
        "        C: The offset vector (f(x0, u0) - A*x0 - B*u0).\n",
        "    \"\"\"\n",
        "    # TODO: Implement the linearization using jax.jacobian here\n",
        "    # A = ...\n",
        "    # B = ...\n",
        "    # C = ...\n",
        "    raise NotImplementedError # remove this\n"
      ]
    },
    {
      "cell_type": "markdown",
      "metadata": {
        "id": "4k0eNzz51r0V"
      },
      "source": [
        "#### (iii) Verify your answers match\n"
      ]
    },
    {
      "cell_type": "code",
      "execution_count": null,
      "metadata": {
        "id": "f152cee2"
      },
      "outputs": [],
      "source": [
        "# Define a sample state and control point\n",
        "state_point = jnp.array([1.0, 2.0, 0.5, 3.0])  # Example state: x, y, theta, v\n",
        "control_point = jnp.array([0.1, 0.2])  # Example control: omega, a\n",
        "time = 0.0\n",
        "\n",
        "dynamics = continuous_dynamics\n",
        "\n",
        "# Compute linearized dynamics using both methods\n",
        "A_analytic, B_analytic, C_analytic = linearized_unicycle_dynamics_analytic(\n",
        "    state_point, control_point, time\n",
        ")\n",
        "A_jax, B_jax, C_jax = linearized_dynamics_jax(\n",
        "    dynamics, state_point, control_point, time\n",
        ")\n",
        "\n",
        "# Verify if the results match\n",
        "A_match = jnp.allclose(A_analytic, A_jax)\n",
        "B_match = jnp.allclose(B_analytic, B_jax)\n",
        "C_match = jnp.allclose(C_analytic, C_jax)\n",
        "\n",
        "print(f\"A matrices match: {A_match}\")\n",
        "print(f\"B matrices match: {B_match}\")\n",
        "print(f\"C vectors match: {C_match}\")\n",
        "\n",
        "# Optional: print the computed matrices/vectors\n",
        "print(\"\\nAnalytic:\")\n",
        "print(\"A:\\n\", A_analytic)\n",
        "print(\"B:\\n\", B_analytic)\n",
        "print(\"C:\\n\", C_analytic)\n",
        "print(\"\\nJAX:\")\n",
        "print(\"A:\\n\", A_jax)\n",
        "print(\"B:\\n\", B_jax)\n",
        "print(\"C:\\n\", C_jax)"
      ]
    },
    {
      "cell_type": "markdown",
      "metadata": {
        "id": "5t3I8x-p1vtb"
      },
      "source": [
        "#### (iv) Use JAX to linearize the discrete-time dynamics"
      ]
    },
    {
      "cell_type": "code",
      "execution_count": null,
      "metadata": {
        "id": "MAdzevsL1uNW"
      },
      "outputs": [],
      "source": [
        "# TODO in class\n"
      ]
    },
    {
      "cell_type": "markdown",
      "metadata": {
        "id": "cpfpGV2o3Loe"
      },
      "source": [
        "## Dynamics + JAX"
      ]
    },
    {
      "cell_type": "markdown",
      "metadata": {
        "id": "1l-H2Y9KDSHE"
      },
      "source": [
        "Now that you can see how to construct dynamics, simulate them given a control sequence, and leveraging the power of JAX, perform the following things."
      ]
    },
    {
      "cell_type": "markdown",
      "metadata": {
        "id": "BWPXBmgnDiON"
      },
      "source": [
        "### (a) Linearize dynamics along trajectory\n",
        "\n",
        "Given a control sequence, **simulate** the trajectory, and **linearize** the dynamics at each point along the trajectory."
      ]
    },
    {
      "cell_type": "code",
      "execution_count": null,
      "metadata": {
        "id": "XHGjtij92uHy"
      },
      "outputs": [],
      "source": [
        "# Define initial state and a random control sequence\n",
        "initial_state = jnp.zeros(state_dim)\n",
        "time_horizon = 5  # seconds\n",
        "dt = 0.1\n",
        "n_steps = int(time_horizon / dt)\n",
        "times = jnp.linspace(0, time_horizon, n_steps)\n",
        "np.random.seed(0)\n",
        "control_sequence = jnp.array(np.random.randn(n_steps, control_dim))\n",
        "\n",
        "dynamics = Dynamics(\n",
        "    runge_kutta_integrate(continuous_dynamics, dt), state_dim, control_dim\n",
        ")"
      ]
    },
    {
      "cell_type": "code",
      "execution_count": null,
      "metadata": {
        "id": "mYQtu6ylD7p7"
      },
      "outputs": [],
      "source": [
        "# TODO by self\n",
        "# This should take ~2-3 lines of code\n",
        "\n",
        "# simulate\n",
        "\n",
        "# linearize\n"
      ]
    },
    {
      "cell_type": "markdown",
      "metadata": {
        "id": "gLvfZdrrEbxX"
      },
      "source": [
        "### (b) Linearize along trajectory for multiple trajectories\n",
        "\n",
        "\n",
        "Now suppose you are given multiple trajectories you want to linearize about.\n"
      ]
    },
    {
      "cell_type": "code",
      "execution_count": null,
      "metadata": {
        "id": "yolD84nuD8fb"
      },
      "outputs": [],
      "source": [
        "# Define initial state and a random control sequence\n",
        "bs = 64\n",
        "time_horizon = 5  # seconds\n",
        "dt = 0.1\n",
        "n_steps = int(time_horizon / dt)\n",
        "\n",
        "times = jnp.linspace(0, time_horizon, n_steps)\n",
        "np.random.seed(0)\n",
        "\n",
        "initial_states = jnp.array(np.random.rand(bs, state_dim))\n",
        "control_sequences = jnp.array(np.random.rand(bs, n_steps, control_dim))\n",
        "\n",
        "dynamics = Dynamics(\n",
        "    runge_kutta_integrate(continuous_dynamics, dt), state_dim, control_dim\n",
        ")\n"
      ]
    },
    {
      "cell_type": "code",
      "execution_count": null,
      "metadata": {
        "id": "kqdaODpEGwRN"
      },
      "outputs": [],
      "source": [
        "# TODO by self\n",
        "# try make this as fast as possible by using jax.jit!\n",
        "\n",
        "# simulate\n",
        "\n",
        "# linearize\n",
        ""
      ]
    }
  ],
  "metadata": {
    "colab": {
      "provenance": [],
      "toc_visible": true,
      "include_colab_link": true
    },
    "kernelspec": {
      "display_name": ".venv",
      "language": "python",
      "name": "python3"
    },
    "language_info": {
      "codemirror_mode": {
        "name": "ipython",
        "version": 3
      },
      "file_extension": ".py",
      "mimetype": "text/x-python",
      "name": "python",
      "nbconvert_exporter": "python",
      "pygments_lexer": "ipython3",
      "version": "3.13.2"
    }
  },
  "nbformat": 4,
  "nbformat_minor": 0
}